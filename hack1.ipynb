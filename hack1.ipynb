{
 "cells": [
  {
   "cell_type": "code",
   "execution_count": 1,
   "metadata": {},
   "outputs": [],
   "source": [
    "# %pip install transformer_lens # sae_lens\n",
    "# %pip install matplotlib numpy scipy plotly pytest"
   ]
  },
  {
   "cell_type": "markdown",
   "metadata": {},
   "source": [
    "# Setup"
   ]
  },
  {
   "cell_type": "code",
   "execution_count": 2,
   "metadata": {},
   "outputs": [],
   "source": [
    "import torch\n",
    "import plotly.express as px\n",
    "import matplotlib.pyplot as plt\n",
    "from sae_lens.training.session_loader import LMSparseAutoencoderSessionloader\n",
    "from huggingface_hub import hf_hub_download\n",
    "from tqdm import tqdm\n",
    "import numpy as np\n",
    "from datasets import load_dataset\n",
    "from torch.utils.data import DataLoader"
   ]
  },
  {
   "cell_type": "markdown",
   "metadata": {},
   "source": [
    "### Get data"
   ]
  },
  {
   "cell_type": "code",
   "execution_count": 3,
   "metadata": {},
   "outputs": [
    {
     "data": {
      "application/vnd.jupyter.widget-view+json": {
       "model_id": "5a25278d797148a1828bbc8675a5882c",
       "version_major": 2,
       "version_minor": 0
      },
      "text/plain": [
       "Resolving data files:   0%|          | 0/73 [00:00<?, ?it/s]"
      ]
     },
     "metadata": {},
     "output_type": "display_data"
    },
    {
     "data": {
      "application/vnd.jupyter.widget-view+json": {
       "model_id": "f4e333f2633c4112bd7328b255351d55",
       "version_major": 2,
       "version_minor": 0
      },
      "text/plain": [
       "Resolving data files:   0%|          | 0/73 [00:00<?, ?it/s]"
      ]
     },
     "metadata": {},
     "output_type": "display_data"
    }
   ],
   "source": [
    "dataset = load_dataset(\"apollo-research/Skylion007-openwebtext-tokenizer-gpt2\", split='train', streaming=True)\n",
    "shuffled_dataset = dataset.shuffle(seed=42, buffer_size=100)\n",
    "dataloader = DataLoader(shuffled_dataset, batch_size=10)"
   ]
  },
  {
   "cell_type": "code",
   "execution_count": 4,
   "metadata": {},
   "outputs": [],
   "source": [
    "# Start by downloading them from huggingface\n",
    "device = \"cuda\"\n",
    "REPO_ID = \"jbloom/GPT2-Small-SAEs\"\n",
    "\n",
    "def get_sae(layer):\n",
    "    assert 0<=layer<12, \"Layer must be between 0 and 11\"\n",
    "    FILENAME = f\"final_sparse_autoencoder_gpt2-small_blocks.{layer}.hook_resid_pre_24576.pt\"\n",
    "\n",
    "    # this is great because if you've already downloaded the SAE it won't download it twice!\n",
    "    path = hf_hub_download(repo_id=REPO_ID, filename=FILENAME)\n",
    "\n",
    "    # We can then load the SAE, dataset and model using the session loader\n",
    "    model, sparse_autoencoders, activation_store = (\n",
    "        LMSparseAutoencoderSessionloader.load_session_from_pretrained(path=path)\n",
    "    )\n",
    "    assert len(list(sparse_autoencoders)) == 1, \"There should only be one SAE in this file\"\n",
    "    return model, list(sparse_autoencoders)[0], activation_store"
   ]
  },
  {
   "cell_type": "markdown",
   "metadata": {},
   "source": [
    "### Layer 8 SAE"
   ]
  },
  {
   "cell_type": "code",
   "execution_count": 5,
   "metadata": {},
   "outputs": [
    {
     "name": "stdout",
     "output_type": "stream",
     "text": [
      "Loaded pretrained model gpt2-small into HookedTransformer\n",
      "Moving model to device:  cuda\n"
     ]
    },
    {
     "name": "stderr",
     "output_type": "stream",
     "text": [
      "/mnt/ssd-interp/stefan/hackathon/hackathon_env/lib/python3.12/site-packages/datasets/load.py:1461: FutureWarning: The repository for Skylion007/openwebtext contains custom code which must be executed to correctly load the dataset. You can inspect the repository content at https://hf.co/datasets/Skylion007/openwebtext\n",
      "You can avoid this message in future by passing the argument `trust_remote_code=True`.\n",
      "Passing `trust_remote_code=True` will be mandatory to load this dataset from the next major release of `datasets`.\n",
      "  warnings.warn(\n"
     ]
    },
    {
     "name": "stdout",
     "output_type": "stream",
     "text": [
      "Run name: 24576-L1-8e-05-LR-0.0004-Tokens-3.000e+08\n",
      "n_tokens_per_buffer (millions): 0.524288\n",
      "Lower bound: n_contexts_per_buffer (millions): 0.004096\n",
      "Total training steps: 73242\n",
      "Total wandb updates: 732\n",
      "n_tokens_per_feature_sampling_window (millions): 524.288\n",
      "n_tokens_per_dead_feature_window (millions): 2621.44\n",
      "We will reset the sparsity calculation 73 times.\n",
      "Number tokens in sparsity calculation window: 4.10e+06\n",
      "Using Ghost Grads.\n",
      "Run name: 24576-L1-8e-05-LR-0.0004-Tokens-3.000e+08\n",
      "n_tokens_per_buffer (millions): 0.524288\n",
      "Lower bound: n_contexts_per_buffer (millions): 0.004096\n",
      "Total training steps: 73242\n",
      "Total wandb updates: 732\n",
      "n_tokens_per_feature_sampling_window (millions): 524.288\n",
      "n_tokens_per_dead_feature_window (millions): 2621.44\n",
      "We will reset the sparsity calculation 73 times.\n",
      "Number tokens in sparsity calculation window: 4.10e+06\n",
      "Using Ghost Grads.\n"
     ]
    }
   ],
   "source": [
    "model, sae_8, activation_store = get_sae(layer=8)\n",
    "n_features = sae_8.cfg.d_sae"
   ]
  },
  {
   "cell_type": "markdown",
   "metadata": {},
   "source": [
    "### Layer 9 SAE"
   ]
  },
  {
   "cell_type": "code",
   "execution_count": 6,
   "metadata": {},
   "outputs": [
    {
     "name": "stdout",
     "output_type": "stream",
     "text": [
      "Loaded pretrained model gpt2-small into HookedTransformer\n",
      "Moving model to device:  cuda\n",
      "Run name: 24576-L1-8e-05-LR-0.0004-Tokens-3.000e+08\n",
      "n_tokens_per_buffer (millions): 0.524288\n",
      "Lower bound: n_contexts_per_buffer (millions): 0.004096\n",
      "Total training steps: 73242\n",
      "Total wandb updates: 732\n",
      "n_tokens_per_feature_sampling_window (millions): 524.288\n",
      "n_tokens_per_dead_feature_window (millions): 2621.44\n",
      "We will reset the sparsity calculation 73 times.\n",
      "Number tokens in sparsity calculation window: 4.10e+06\n",
      "Using Ghost Grads.\n",
      "Run name: 24576-L1-8e-05-LR-0.0004-Tokens-3.000e+08\n",
      "n_tokens_per_buffer (millions): 0.524288\n",
      "Lower bound: n_contexts_per_buffer (millions): 0.004096\n",
      "Total training steps: 73242\n",
      "Total wandb updates: 732\n",
      "n_tokens_per_feature_sampling_window (millions): 524.288\n",
      "n_tokens_per_dead_feature_window (millions): 2621.44\n",
      "We will reset the sparsity calculation 73 times.\n",
      "Number tokens in sparsity calculation window: 4.10e+06\n",
      "Using Ghost Grads.\n"
     ]
    }
   ],
   "source": [
    "model, sae_9, activation_store = get_sae(layer=9)\n",
    "n_features = sae_9.cfg.d_sae"
   ]
  },
  {
   "cell_type": "markdown",
   "metadata": {},
   "source": [
    "# Collect SAE feature activations"
   ]
  },
  {
   "cell_type": "code",
   "execution_count": 8,
   "metadata": {},
   "outputs": [
    {
     "name": "stderr",
     "output_type": "stream",
     "text": [
      "Getting activations for layer 8: 100%|██████████| 10/10 [00:06<00:00,  1.59it/s]\n",
      "Getting activations for layer 9: 100%|██████████| 10/10 [00:06<00:00,  1.53it/s]\n"
     ]
    }
   ],
   "source": [
    "def get_feature_activation_table(sae, dataloader=dataloader, batches=10):\n",
    "    layer = sae.cfg.hook_point_layer\n",
    "    big_feature_activation_table = []\n",
    "    sae.eval()  # prevents error if we're expecting a dead neuron mask for who grads\n",
    "    for i, prompts in tqdm(enumerate(iter(dataloader)), desc=f\"Getting activations for layer {layer}\", total=batches):\n",
    "        with torch.no_grad():\n",
    "            prompts = torch.stack(prompts[\"input_ids\"]).to(device)\n",
    "            _, cache = model.run_with_cache(prompts, prepend_bos=True)\n",
    "            _, feature_acts, _, _, _, _ = sae(\n",
    "                cache[sae.cfg.hook_point]\n",
    "            )\n",
    "            del cache\n",
    "            big_feature_activation_table.append(feature_acts.view(-1, n_features).cpu())\n",
    "        if i==batches:\n",
    "            break\n",
    "    # for _ in tqdm(range(batches), desc=f\"Getting activations for layer {layer}\"):\n",
    "    #     with torch.no_grad():\n",
    "    #         batch_tokens = activation_store.get_batch_tokens()\n",
    "    #         _, cache = model.run_with_cache(batch_tokens, prepend_bos=True)\n",
    "    #         _, feature_acts, _, _, _, _ = sae(\n",
    "    #             cache[sae.cfg.hook_point]\n",
    "    #         )\n",
    "    #         del cache\n",
    "    #         big_feature_activation_table.append(feature_acts.view(-1, n_features).cpu())\n",
    "\n",
    "    big_feature_activation_table = torch.cat(big_feature_activation_table, dim=0)\n",
    "    return big_feature_activation_table\n",
    "\n",
    "feature_activation_table_8 = get_feature_activation_table(sae_8)\n",
    "feature_activation_table_9 = get_feature_activation_table(sae_9)"
   ]
  },
  {
   "cell_type": "code",
   "execution_count": 9,
   "metadata": {},
   "outputs": [
    {
     "data": {
      "text/plain": [
       "Text(0, 0.5, 'Histogram over total of 24576 features\\nCut at x<100 because we want to make sure there are no low numbers')"
      ]
     },
     "execution_count": 9,
     "metadata": {},
     "output_type": "execute_result"
    },
    {
     "data": {
      "image/png": "[encoded data removed]",
      "text/plain": [
       "<Figure size 640x480 with 1 Axes>"
      ]
     },
     "metadata": {},
     "output_type": "display_data"
    }
   ],
   "source": [
    "# Do we have a decent amount of activations for each feature?\n",
    "plt.hist((feature_activation_table_8 != 0).sum(dim=0), range=(0, 100), bins=100, alpha=0.5)\n",
    "plt.hist((feature_activation_table_9 != 0).sum(dim=0), range=(0, 100), bins=100, alpha=0.5)\n",
    "plt.xlabel(\"How often a feature fires\")\n",
    "plt.ylabel(f\"Histogram over total of {n_features} features\\nCut at x<100 because we want to make sure there are no low numbers\")"
   ]
  },
  {
   "cell_type": "markdown",
   "metadata": {},
   "source": [
    "# Compute the correlations"
   ]
  },
  {
   "cell_type": "code",
   "execution_count": 10,
   "metadata": {},
   "outputs": [
    {
     "data": {
      "text/plain": [
       "torch.Size([112640, 24576])"
      ]
     },
     "execution_count": 10,
     "metadata": {},
     "output_type": "execute_result"
    }
   ],
   "source": [
    "feature_activation_table_9.shape"
   ]
  },
  {
   "cell_type": "code",
   "execution_count": 11,
   "metadata": {},
   "outputs": [
    {
     "name": "stdout",
     "output_type": "stream",
     "text": [
      "torch.Size([200, 112640])\n"
     ]
    },
    {
     "name": "stderr",
     "output_type": "stream",
     "text": [
      "/mnt/ssd-interp/stefan/hackathon/hackathon_env/lib/python3.12/site-packages/numpy/lib/function_base.py:2897: RuntimeWarning: invalid value encountered in divide\n",
      "  c /= stddev[:, None]\n",
      "/mnt/ssd-interp/stefan/hackathon/hackathon_env/lib/python3.12/site-packages/numpy/lib/function_base.py:2898: RuntimeWarning: invalid value encountered in divide\n",
      "  c /= stddev[None, :]\n"
     ]
    }
   ],
   "source": [
    "cutoff = 200 #instead of 25k, for testing. 10k takes abour 20 seconds\n",
    "a = feature_activation_table_8.T[:cutoff]\n",
    "b = feature_activation_table_9.T[:cutoff]\n",
    "print(a.shape)\n",
    "# Compute correlation  between feature_activation_table_8 and feature_activation_table_9\n",
    "# Compute the 20x20 correlation matrix using numpy\n",
    "correlation_matrix = np.corrcoef(a,b)[:cutoff,cutoff:]\n",
    "\n",
    "#plt.matshow(correlation_matrix)\n",
    "#plt.colorbar()"
   ]
  },
  {
   "cell_type": "markdown",
   "metadata": {},
   "source": [
    "# Create the graph"
   ]
  },
  {
   "cell_type": "code",
   "execution_count": null,
   "metadata": {},
   "outputs": [],
   "source": []
  }
 ],
 "metadata": {
  "kernelspec": {
   "display_name": "hackathon_env",
   "language": "python",
   "name": "python3"
  },
  "language_info": {
   "codemirror_mode": {
    "name": "ipython",
    "version": 3
   },
   "file_extension": ".py",
   "mimetype": "text/x-python",
   "name": "python",
   "nbconvert_exporter": "python",
   "pygments_lexer": "ipython3",
   "version": "3.12.1"
  }
 },
 "nbformat": 4,
 "nbformat_minor": 2
}
